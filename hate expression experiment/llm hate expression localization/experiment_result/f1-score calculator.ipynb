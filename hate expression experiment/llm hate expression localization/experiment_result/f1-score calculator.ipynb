{
 "cells": [
  {
   "cell_type": "code",
   "execution_count": 1,
   "id": "950d7d84-ccb2-40fa-9ef4-21df27e6849d",
   "metadata": {},
   "outputs": [],
   "source": [
    "import pandas as pd\n",
    "\n",
    "# Load the provided Excel file\n",
    "file_path = './localization labeling result.xlsx'  # Update the file path as needed\n",
    "data = pd.read_excel(file_path)\n",
    "\n",
    "# Calculate True Positives (TP), False Positives (FP), False Negatives (FN), and True Negatives (TN)\n",
    "TP = data['TP'].sum()\n",
    "FP = data['FP'].sum()\n",
    "FN = data['FN'].sum()\n",
    "TN = data['TN'].sum()\n",
    "\n",
    "# Calculate Precision, Recall, and F1-Score\n",
    "precision = TP / (TP + FP) if (TP + FP) > 0 else 0\n",
    "recall = TP / (TP + FN) if (TP + FN) > 0 else 0\n",
    "f1_score = (2 * precision * recall) / (precision + recall) if (precision + recall) > 0 else 0\n",
    "\n",
    "# Print the results\n",
    "results = {\n",
    "    'Precision': precision,\n",
    "    'Recall': recall,\n",
    "    'F1-Score': f1_score\n",
    "}"
   ]
  },
  {
   "cell_type": "code",
   "execution_count": 2,
   "id": "351b6acf-917f-4560-aca4-704ec4f29cac",
   "metadata": {},
   "outputs": [
    {
     "name": "stdout",
     "output_type": "stream",
     "text": [
      "{'Precision': np.float64(0.6457765667574932), 'Recall': np.float64(0.8660170523751523), 'F1-Score': np.float64(0.7398543184183142)}\n"
     ]
    }
   ],
   "source": [
    "print(results)"
   ]
  },
  {
   "cell_type": "code",
   "execution_count": null,
   "id": "642af9dc-1f5e-4ad9-895f-4795d0e57438",
   "metadata": {},
   "outputs": [],
   "source": []
  }
 ],
 "metadata": {
  "kernelspec": {
   "display_name": "Python 3 (ipykernel)",
   "language": "python",
   "name": "python3"
  },
  "language_info": {
   "codemirror_mode": {
    "name": "ipython",
    "version": 3
   },
   "file_extension": ".py",
   "mimetype": "text/x-python",
   "name": "python",
   "nbconvert_exporter": "python",
   "pygments_lexer": "ipython3",
   "version": "3.9.20"
  }
 },
 "nbformat": 4,
 "nbformat_minor": 5
}
